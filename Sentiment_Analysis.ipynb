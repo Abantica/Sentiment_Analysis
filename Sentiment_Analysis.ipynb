{
 "cells": [
  {
   "cell_type": "code",
   "execution_count": 1,
   "id": "97b6ac6e",
   "metadata": {},
   "outputs": [],
   "source": [
    "import pandas as pd\n",
    "import matplotlib.pyplot as plt\n",
    "import os\n",
    "import numpy as np\n",
    "import re"
   ]
  },
  {
   "cell_type": "code",
   "execution_count": 2,
   "id": "a4ae07b0",
   "metadata": {},
   "outputs": [
    {
     "data": {
      "text/html": [
       "<div>\n",
       "<style scoped>\n",
       "    .dataframe tbody tr th:only-of-type {\n",
       "        vertical-align: middle;\n",
       "    }\n",
       "\n",
       "    .dataframe tbody tr th {\n",
       "        vertical-align: top;\n",
       "    }\n",
       "\n",
       "    .dataframe thead th {\n",
       "        text-align: right;\n",
       "    }\n",
       "</style>\n",
       "<table border=\"1\" class=\"dataframe\">\n",
       "  <thead>\n",
       "    <tr style=\"text-align: right;\">\n",
       "      <th></th>\n",
       "      <th>review</th>\n",
       "      <th>sentiment</th>\n",
       "    </tr>\n",
       "  </thead>\n",
       "  <tbody>\n",
       "    <tr>\n",
       "      <th>0</th>\n",
       "      <td>One of the other reviewers has mentioned that ...</td>\n",
       "      <td>positive</td>\n",
       "    </tr>\n",
       "    <tr>\n",
       "      <th>1</th>\n",
       "      <td>A wonderful little production. &lt;br /&gt;&lt;br /&gt;The...</td>\n",
       "      <td>positive</td>\n",
       "    </tr>\n",
       "    <tr>\n",
       "      <th>2</th>\n",
       "      <td>I thought this was a wonderful way to spend ti...</td>\n",
       "      <td>positive</td>\n",
       "    </tr>\n",
       "    <tr>\n",
       "      <th>3</th>\n",
       "      <td>Basically there's a family where a little boy ...</td>\n",
       "      <td>negative</td>\n",
       "    </tr>\n",
       "    <tr>\n",
       "      <th>4</th>\n",
       "      <td>Petter Mattei's \"Love in the Time of Money\" is...</td>\n",
       "      <td>positive</td>\n",
       "    </tr>\n",
       "    <tr>\n",
       "      <th>...</th>\n",
       "      <td>...</td>\n",
       "      <td>...</td>\n",
       "    </tr>\n",
       "    <tr>\n",
       "      <th>49995</th>\n",
       "      <td>I thought this movie did a down right good job...</td>\n",
       "      <td>positive</td>\n",
       "    </tr>\n",
       "    <tr>\n",
       "      <th>49996</th>\n",
       "      <td>Bad plot, bad dialogue, bad acting, idiotic di...</td>\n",
       "      <td>negative</td>\n",
       "    </tr>\n",
       "    <tr>\n",
       "      <th>49997</th>\n",
       "      <td>I am a Catholic taught in parochial elementary...</td>\n",
       "      <td>negative</td>\n",
       "    </tr>\n",
       "    <tr>\n",
       "      <th>49998</th>\n",
       "      <td>I'm going to have to disagree with the previou...</td>\n",
       "      <td>negative</td>\n",
       "    </tr>\n",
       "    <tr>\n",
       "      <th>49999</th>\n",
       "      <td>No one expects the Star Trek movies to be high...</td>\n",
       "      <td>negative</td>\n",
       "    </tr>\n",
       "  </tbody>\n",
       "</table>\n",
       "<p>50000 rows × 2 columns</p>\n",
       "</div>"
      ],
      "text/plain": [
       "                                                  review sentiment\n",
       "0      One of the other reviewers has mentioned that ...  positive\n",
       "1      A wonderful little production. <br /><br />The...  positive\n",
       "2      I thought this was a wonderful way to spend ti...  positive\n",
       "3      Basically there's a family where a little boy ...  negative\n",
       "4      Petter Mattei's \"Love in the Time of Money\" is...  positive\n",
       "...                                                  ...       ...\n",
       "49995  I thought this movie did a down right good job...  positive\n",
       "49996  Bad plot, bad dialogue, bad acting, idiotic di...  negative\n",
       "49997  I am a Catholic taught in parochial elementary...  negative\n",
       "49998  I'm going to have to disagree with the previou...  negative\n",
       "49999  No one expects the Star Trek movies to be high...  negative\n",
       "\n",
       "[50000 rows x 2 columns]"
      ]
     },
     "execution_count": 2,
     "metadata": {},
     "output_type": "execute_result"
    }
   ],
   "source": [
    "df=pd.read_csv(\"imdb_data.csv\")\n",
    "df"
   ]
  },
  {
   "cell_type": "code",
   "execution_count": 3,
   "id": "945d0aeb",
   "metadata": {},
   "outputs": [
    {
     "data": {
      "text/plain": [
       "\"One of the other reviewers has mentioned that after watching just 1 Oz episode you'll be hooked. They are right, as this is exactly what happened with me.<br /><br />The first thing that struck me about Oz was its brutality and unflinching scenes of violence, which set in right from the word GO. Trust me, this is not a show for the faint hearted or timid. This show pulls no punches with regards to drugs, sex or violence. Its is hardcore, in the classic use of the word.<br /><br />It is called OZ as that is the nickname given to the Oswald Maximum Security State Penitentary. It focuses mainly on Emerald City, an experimental section of the prison where all the cells have glass fronts and face inwards, so privacy is not high on the agenda. Em City is home to many..Aryans, Muslims, gangstas, Latinos, Christians, Italians, Irish and more....so scuffles, death stares, dodgy dealings and shady agreements are never far away.<br /><br />I would say the main appeal of the show is due to the fact that it goes where other shows wouldn't dare. Forget pretty pictures painted for mainstream audiences, forget charm, forget romance...OZ doesn't mess around. The first episode I ever saw struck me as so nasty it was surreal, I couldn't say I was ready for it, but as I watched more, I developed a taste for Oz, and got accustomed to the high levels of graphic violence. Not just violence, but injustice (crooked guards who'll be sold out for a nickel, inmates who'll kill on order and get away with it, well mannered, middle class inmates being turned into prison bitches due to their lack of street skills or prison experience) Watching Oz, you may become comfortable with what is uncomfortable viewing....thats if you can get in touch with your darker side.\""
      ]
     },
     "execution_count": 3,
     "metadata": {},
     "output_type": "execute_result"
    }
   ],
   "source": [
    "df['review'][0]"
   ]
  },
  {
   "cell_type": "code",
   "execution_count": 4,
   "id": "473cdc91",
   "metadata": {},
   "outputs": [
    {
     "data": {
      "text/plain": [
       "positive    50.0\n",
       "negative    50.0\n",
       "Name: sentiment, dtype: float64"
      ]
     },
     "execution_count": 4,
     "metadata": {},
     "output_type": "execute_result"
    }
   ],
   "source": [
    "df['sentiment'].value_counts()/(len(df))*100\n",
    "# '''The data is balanced'''"
   ]
  },
  {
   "cell_type": "code",
   "execution_count": 5,
   "id": "3e176469",
   "metadata": {},
   "outputs": [
    {
     "name": "stdout",
     "output_type": "stream",
     "text": [
      "<class 'pandas.core.frame.DataFrame'>\n",
      "RangeIndex: 50000 entries, 0 to 49999\n",
      "Data columns (total 2 columns):\n",
      " #   Column     Non-Null Count  Dtype \n",
      "---  ------     --------------  ----- \n",
      " 0   review     50000 non-null  object\n",
      " 1   sentiment  50000 non-null  object\n",
      "dtypes: object(2)\n",
      "memory usage: 781.4+ KB\n"
     ]
    }
   ],
   "source": [
    "df.info() #  no missing data"
   ]
  },
  {
   "cell_type": "code",
   "execution_count": 6,
   "id": "888e54de",
   "metadata": {},
   "outputs": [
    {
     "data": {
      "text/plain": [
       "(50000, 2)"
      ]
     },
     "execution_count": 6,
     "metadata": {},
     "output_type": "execute_result"
    }
   ],
   "source": [
    "df.shape"
   ]
  },
  {
   "cell_type": "markdown",
   "id": "d3ea9da7",
   "metadata": {},
   "source": [
    "# Text Cleaning:\n",
    "1. Sampling 1000 rows\n",
    "2. Replacing positive and negative sentences to 1 and 0 respectively\n",
    "3. Removing html tags\n",
    "4. Removing special characters\n",
    "5. Converting everything to lower case\n",
    "6. Removing stop words\n",
    "7. stemming"
   ]
  },
  {
   "cell_type": "code",
   "execution_count": 8,
   "id": "7c9d50f3",
   "metadata": {},
   "outputs": [],
   "source": [
    "df1=df.sample(15000)"
   ]
  },
  {
   "cell_type": "code",
   "execution_count": 9,
   "id": "12149a80",
   "metadata": {},
   "outputs": [
    {
     "data": {
      "text/plain": [
       "(15000, 2)"
      ]
     },
     "execution_count": 9,
     "metadata": {},
     "output_type": "execute_result"
    }
   ],
   "source": [
    "df1.shape"
   ]
  },
  {
   "cell_type": "code",
   "execution_count": 10,
   "id": "8633e51c",
   "metadata": {},
   "outputs": [
    {
     "name": "stdout",
     "output_type": "stream",
     "text": [
      "<class 'pandas.core.frame.DataFrame'>\n",
      "Int64Index: 15000 entries, 35045 to 23885\n",
      "Data columns (total 2 columns):\n",
      " #   Column     Non-Null Count  Dtype \n",
      "---  ------     --------------  ----- \n",
      " 0   review     15000 non-null  object\n",
      " 1   sentiment  15000 non-null  object\n",
      "dtypes: object(2)\n",
      "memory usage: 351.6+ KB\n"
     ]
    }
   ],
   "source": [
    "df1.info() \n",
    "#no null values are there"
   ]
  },
  {
   "cell_type": "code",
   "execution_count": 11,
   "id": "f421adb2",
   "metadata": {},
   "outputs": [],
   "source": [
    "df1['sentiment'].replace({'positive':1 , 'negative':0},inplace=True)\n",
    "#Replacing positive and negative sentences to 1 and 0 respectively\n"
   ]
  },
  {
   "cell_type": "code",
   "execution_count": 12,
   "id": "9e9ba466",
   "metadata": {},
   "outputs": [],
   "source": [
    "#Function to clean html/unwanted tags\n",
    "def clean_tags(text):\n",
    "    clean=re.compile(r'<.*?>')\n",
    "    return clean.sub('', text)\n",
    "\n",
    "\n",
    "#applying the function on the dataset\n",
    "df1['review']=df1['review'].apply(clean_tags)"
   ]
  },
  {
   "cell_type": "code",
   "execution_count": 13,
   "id": "3c17f9ae",
   "metadata": {},
   "outputs": [
    {
     "data": {
      "text/plain": [
       "\"Jacqueline Hyde starts like any other normal day for telemarketing individual Jackie Hyde (co-producer Gabriella Hall) until her boss (Robert Donovan) fires her for taking personal calls at work, however it's not all bad news as the call she took was from a lawyer informing her that her Grandfather (Malcolm Bennett) has recently died & that he left her his mansion & fortune (why doesn't stuff like that ever happen to me? Sigh). Very excited Jackie heads on over there & makes herself right at home, while looking for the thermostat late one night Jackie stumbles upon a secret room where her Grandfather stashes the bright red formula that he invented that allows whoever drinks it to change their appearance. Being a bit on the porky side Jackie finally settles on the glamorous Jacqueline (Blythe Metz), however Jackie's better looking alter-ego starts to take control...Written, co-produced & directed by Rolfe Kanefsky I thought Jacqueline Hyde was complete total & utter crap from start to finish & it's as simple & straight forward as that. According to the opening credits Jacqueline Hyde was 'inspired' by the classic Robert Louis Stevenson novel 'The Strange Case of Dr. Jekyll and Mr. Hyde', frankly if Mr. Stevenson could see what was being done to his story here he'd turn in his grave. For a start I think Jacqueline Hyde was/is intended to be a horror film, the IMDb certainly lists it as such but there isn't any horror in it at all apart from just how bad it is. I would say that Jacqueline Hyde is more a soft-core porno than anything else & extremely tame with it, why sit down & watch this softer than soft porno crap when you can watch you proper hard-core stuff that actually delivers the goods? Why, that's the question I ask here. It's not even good porn either, besides being far too soft it's dull, boring & the not-worth-mentioning sex scenes are few & far between. The most intelligent aspect of this film is the title which would have been quite clever if not for the fact that another film used the Jacqueline Hyde (1998) title during the last century & judging by the IMDb's plot summary it sounds a hell of a lot better than this piece of rubbish. This is one of those films you have to watch yourself to see just how bad it is but just hope that you never get the opportunity.Director Kanefsky was obviously working on a low budget but that's not an excuse these days, shot on a digital camcorder the film looks cheap & the few instances of CGI look like they came from a Nintendo Gameboy, the final 'shocking' twist has probably the worst morph effect I've ever seen & is pretty good for a laugh as is the scene when Jackie's breasts grow via more terrible CGI. That's another thing, the film takes itself far too seriously. The subject matter sucks, is far too predictable & makes for a poor film but maybe if the dialogue had been intentionally funny with some dirty porn talk the film might have been more fun to watch, alas it isn't so it isn't. Forget about any decent horror, violence or gore as there isn't any apart from a surprisingly bloodless decapitation at the end.Technically Jacqueline Hyde is home made film type stuff, the photography is of the flat hand held point-&-shoot variety, the music, production design & special effects are of a suitably low standard to match the script. The acting was awful, seriously this is bad.Jacqueline Hyde in my opinion a load of crap, there is not one positive thing about this turgid film that I can think of. Any proper film lover will have an almost impossible time trying to find any redeeming value in this crap, definitely one to avoid.\""
      ]
     },
     "execution_count": 13,
     "metadata": {},
     "output_type": "execute_result"
    }
   ],
   "source": [
    "df1['review'].iloc[2]"
   ]
  },
  {
   "cell_type": "code",
   "execution_count": 14,
   "id": "441af55a",
   "metadata": {},
   "outputs": [],
   "source": [
    "#Function to convert text to lower case\n",
    "def con_lower(text):\n",
    "    return text.lower()\n",
    "\n",
    "\n",
    "#applying the function on the dataset\n",
    "df1['review']=df1['review'].apply(con_lower)"
   ]
  },
  {
   "cell_type": "code",
   "execution_count": 15,
   "id": "83ca2a4b",
   "metadata": {},
   "outputs": [
    {
     "data": {
      "text/plain": [
       "\"jacqueline hyde starts like any other normal day for telemarketing individual jackie hyde (co-producer gabriella hall) until her boss (robert donovan) fires her for taking personal calls at work, however it's not all bad news as the call she took was from a lawyer informing her that her grandfather (malcolm bennett) has recently died & that he left her his mansion & fortune (why doesn't stuff like that ever happen to me? sigh). very excited jackie heads on over there & makes herself right at home, while looking for the thermostat late one night jackie stumbles upon a secret room where her grandfather stashes the bright red formula that he invented that allows whoever drinks it to change their appearance. being a bit on the porky side jackie finally settles on the glamorous jacqueline (blythe metz), however jackie's better looking alter-ego starts to take control...written, co-produced & directed by rolfe kanefsky i thought jacqueline hyde was complete total & utter crap from start to finish & it's as simple & straight forward as that. according to the opening credits jacqueline hyde was 'inspired' by the classic robert louis stevenson novel 'the strange case of dr. jekyll and mr. hyde', frankly if mr. stevenson could see what was being done to his story here he'd turn in his grave. for a start i think jacqueline hyde was/is intended to be a horror film, the imdb certainly lists it as such but there isn't any horror in it at all apart from just how bad it is. i would say that jacqueline hyde is more a soft-core porno than anything else & extremely tame with it, why sit down & watch this softer than soft porno crap when you can watch you proper hard-core stuff that actually delivers the goods? why, that's the question i ask here. it's not even good porn either, besides being far too soft it's dull, boring & the not-worth-mentioning sex scenes are few & far between. the most intelligent aspect of this film is the title which would have been quite clever if not for the fact that another film used the jacqueline hyde (1998) title during the last century & judging by the imdb's plot summary it sounds a hell of a lot better than this piece of rubbish. this is one of those films you have to watch yourself to see just how bad it is but just hope that you never get the opportunity.director kanefsky was obviously working on a low budget but that's not an excuse these days, shot on a digital camcorder the film looks cheap & the few instances of cgi look like they came from a nintendo gameboy, the final 'shocking' twist has probably the worst morph effect i've ever seen & is pretty good for a laugh as is the scene when jackie's breasts grow via more terrible cgi. that's another thing, the film takes itself far too seriously. the subject matter sucks, is far too predictable & makes for a poor film but maybe if the dialogue had been intentionally funny with some dirty porn talk the film might have been more fun to watch, alas it isn't so it isn't. forget about any decent horror, violence or gore as there isn't any apart from a surprisingly bloodless decapitation at the end.technically jacqueline hyde is home made film type stuff, the photography is of the flat hand held point-&-shoot variety, the music, production design & special effects are of a suitably low standard to match the script. the acting was awful, seriously this is bad.jacqueline hyde in my opinion a load of crap, there is not one positive thing about this turgid film that i can think of. any proper film lover will have an almost impossible time trying to find any redeeming value in this crap, definitely one to avoid.\""
      ]
     },
     "execution_count": 15,
     "metadata": {},
     "output_type": "execute_result"
    }
   ],
   "source": [
    "df1['review'].iloc[2]"
   ]
  },
  {
   "cell_type": "code",
   "execution_count": 16,
   "id": "9ae13028",
   "metadata": {},
   "outputs": [],
   "source": [
    "#Function to remove special char\n",
    "\n",
    "def rem_spcl(text):\n",
    "    x=''\n",
    "    for i in text:\n",
    "        if i.isalnum() == True:\n",
    "            x=x+i\n",
    "        else:\n",
    "            x=x+' '\n",
    "    return x\n",
    "\n",
    "\n",
    "\n",
    "#applying the function on the dataset\n",
    "df1['review']=df1['review'].apply(rem_spcl)"
   ]
  },
  {
   "cell_type": "code",
   "execution_count": 17,
   "id": "ceedb128",
   "metadata": {},
   "outputs": [
    {
     "data": {
      "text/plain": [
       "'jacqueline hyde starts like any other normal day for telemarketing individual jackie hyde  co producer gabriella hall  until her boss  robert donovan  fires her for taking personal calls at work  however it s not all bad news as the call she took was from a lawyer informing her that her grandfather  malcolm bennett  has recently died   that he left her his mansion   fortune  why doesn t stuff like that ever happen to me  sigh   very excited jackie heads on over there   makes herself right at home  while looking for the thermostat late one night jackie stumbles upon a secret room where her grandfather stashes the bright red formula that he invented that allows whoever drinks it to change their appearance  being a bit on the porky side jackie finally settles on the glamorous jacqueline  blythe metz   however jackie s better looking alter ego starts to take control   written  co produced   directed by rolfe kanefsky i thought jacqueline hyde was complete total   utter crap from start to finish   it s as simple   straight forward as that  according to the opening credits jacqueline hyde was  inspired  by the classic robert louis stevenson novel  the strange case of dr  jekyll and mr  hyde   frankly if mr  stevenson could see what was being done to his story here he d turn in his grave  for a start i think jacqueline hyde was is intended to be a horror film  the imdb certainly lists it as such but there isn t any horror in it at all apart from just how bad it is  i would say that jacqueline hyde is more a soft core porno than anything else   extremely tame with it  why sit down   watch this softer than soft porno crap when you can watch you proper hard core stuff that actually delivers the goods  why  that s the question i ask here  it s not even good porn either  besides being far too soft it s dull  boring   the not worth mentioning sex scenes are few   far between  the most intelligent aspect of this film is the title which would have been quite clever if not for the fact that another film used the jacqueline hyde  1998  title during the last century   judging by the imdb s plot summary it sounds a hell of a lot better than this piece of rubbish  this is one of those films you have to watch yourself to see just how bad it is but just hope that you never get the opportunity director kanefsky was obviously working on a low budget but that s not an excuse these days  shot on a digital camcorder the film looks cheap   the few instances of cgi look like they came from a nintendo gameboy  the final  shocking  twist has probably the worst morph effect i ve ever seen   is pretty good for a laugh as is the scene when jackie s breasts grow via more terrible cgi  that s another thing  the film takes itself far too seriously  the subject matter sucks  is far too predictable   makes for a poor film but maybe if the dialogue had been intentionally funny with some dirty porn talk the film might have been more fun to watch  alas it isn t so it isn t  forget about any decent horror  violence or gore as there isn t any apart from a surprisingly bloodless decapitation at the end technically jacqueline hyde is home made film type stuff  the photography is of the flat hand held point   shoot variety  the music  production design   special effects are of a suitably low standard to match the script  the acting was awful  seriously this is bad jacqueline hyde in my opinion a load of crap  there is not one positive thing about this turgid film that i can think of  any proper film lover will have an almost impossible time trying to find any redeeming value in this crap  definitely one to avoid '"
      ]
     },
     "execution_count": 17,
     "metadata": {},
     "output_type": "execute_result"
    }
   ],
   "source": [
    "df1['review'].iloc[2]"
   ]
  },
  {
   "cell_type": "code",
   "execution_count": 18,
   "id": "4faadbaf",
   "metadata": {},
   "outputs": [],
   "source": [
    "# for removing stopwords\n",
    "import nltk\n",
    "from nltk.corpus import stopwords"
   ]
  },
  {
   "cell_type": "code",
   "execution_count": 19,
   "id": "e4f4ed07",
   "metadata": {},
   "outputs": [
    {
     "data": {
      "text/plain": [
       "179"
      ]
     },
     "execution_count": 19,
     "metadata": {},
     "output_type": "execute_result"
    }
   ],
   "source": [
    "len(stopwords.words('English'))"
   ]
  },
  {
   "cell_type": "code",
   "execution_count": 20,
   "id": "3893cc4a",
   "metadata": {},
   "outputs": [],
   "source": [
    "#Function to remove stopwords\n",
    "def rem_stopwords(text):\n",
    "    x=[]\n",
    "    for i in text.split():\n",
    "        if i not in stopwords.words('english'):\n",
    "            x.append(i)\n",
    "    y=x[:]\n",
    "    x.clear()\n",
    "    return y\n",
    "\n",
    "\n",
    "\n",
    "#applying the function on the dataset\n",
    "df1['review']=df1['review'].apply(rem_stopwords)"
   ]
  },
  {
   "cell_type": "code",
   "execution_count": 21,
   "id": "8c670ab7",
   "metadata": {},
   "outputs": [
    {
     "name": "stdout",
     "output_type": "stream",
     "text": [
      "['jacqueline', 'hyde', 'starts', 'like', 'normal', 'day', 'telemarketing', 'individual', 'jackie', 'hyde', 'co', 'producer', 'gabriella', 'hall', 'boss', 'robert', 'donovan', 'fires', 'taking', 'personal', 'calls', 'work', 'however', 'bad', 'news', 'call', 'took', 'lawyer', 'informing', 'grandfather', 'malcolm', 'bennett', 'recently', 'died', 'left', 'mansion', 'fortune', 'stuff', 'like', 'ever', 'happen', 'sigh', 'excited', 'jackie', 'heads', 'makes', 'right', 'home', 'looking', 'thermostat', 'late', 'one', 'night', 'jackie', 'stumbles', 'upon', 'secret', 'room', 'grandfather', 'stashes', 'bright', 'red', 'formula', 'invented', 'allows', 'whoever', 'drinks', 'change', 'appearance', 'bit', 'porky', 'side', 'jackie', 'finally', 'settles', 'glamorous', 'jacqueline', 'blythe', 'metz', 'however', 'jackie', 'better', 'looking', 'alter', 'ego', 'starts', 'take', 'control', 'written', 'co', 'produced', 'directed', 'rolfe', 'kanefsky', 'thought', 'jacqueline', 'hyde', 'complete', 'total', 'utter', 'crap', 'start', 'finish', 'simple', 'straight', 'forward', 'according', 'opening', 'credits', 'jacqueline', 'hyde', 'inspired', 'classic', 'robert', 'louis', 'stevenson', 'novel', 'strange', 'case', 'dr', 'jekyll', 'mr', 'hyde', 'frankly', 'mr', 'stevenson', 'could', 'see', 'done', 'story', 'turn', 'grave', 'start', 'think', 'jacqueline', 'hyde', 'intended', 'horror', 'film', 'imdb', 'certainly', 'lists', 'horror', 'apart', 'bad', 'would', 'say', 'jacqueline', 'hyde', 'soft', 'core', 'porno', 'anything', 'else', 'extremely', 'tame', 'sit', 'watch', 'softer', 'soft', 'porno', 'crap', 'watch', 'proper', 'hard', 'core', 'stuff', 'actually', 'delivers', 'goods', 'question', 'ask', 'even', 'good', 'porn', 'either', 'besides', 'far', 'soft', 'dull', 'boring', 'worth', 'mentioning', 'sex', 'scenes', 'far', 'intelligent', 'aspect', 'film', 'title', 'would', 'quite', 'clever', 'fact', 'another', 'film', 'used', 'jacqueline', 'hyde', '1998', 'title', 'last', 'century', 'judging', 'imdb', 'plot', 'summary', 'sounds', 'hell', 'lot', 'better', 'piece', 'rubbish', 'one', 'films', 'watch', 'see', 'bad', 'hope', 'never', 'get', 'opportunity', 'director', 'kanefsky', 'obviously', 'working', 'low', 'budget', 'excuse', 'days', 'shot', 'digital', 'camcorder', 'film', 'looks', 'cheap', 'instances', 'cgi', 'look', 'like', 'came', 'nintendo', 'gameboy', 'final', 'shocking', 'twist', 'probably', 'worst', 'morph', 'effect', 'ever', 'seen', 'pretty', 'good', 'laugh', 'scene', 'jackie', 'breasts', 'grow', 'via', 'terrible', 'cgi', 'another', 'thing', 'film', 'takes', 'far', 'seriously', 'subject', 'matter', 'sucks', 'far', 'predictable', 'makes', 'poor', 'film', 'maybe', 'dialogue', 'intentionally', 'funny', 'dirty', 'porn', 'talk', 'film', 'might', 'fun', 'watch', 'alas', 'forget', 'decent', 'horror', 'violence', 'gore', 'apart', 'surprisingly', 'bloodless', 'decapitation', 'end', 'technically', 'jacqueline', 'hyde', 'home', 'made', 'film', 'type', 'stuff', 'photography', 'flat', 'hand', 'held', 'point', 'shoot', 'variety', 'music', 'production', 'design', 'special', 'effects', 'suitably', 'low', 'standard', 'match', 'script', 'acting', 'awful', 'seriously', 'bad', 'jacqueline', 'hyde', 'opinion', 'load', 'crap', 'one', 'positive', 'thing', 'turgid', 'film', 'think', 'proper', 'film', 'lover', 'almost', 'impossible', 'time', 'trying', 'find', 'redeeming', 'value', 'crap', 'definitely', 'one', 'avoid']"
     ]
    }
   ],
   "source": [
    "print(df1['review'].iloc[2] , end='')"
   ]
  },
  {
   "cell_type": "code",
   "execution_count": 22,
   "id": "ae500feb",
   "metadata": {},
   "outputs": [
    {
     "data": {
      "text/html": [
       "<div>\n",
       "<style scoped>\n",
       "    .dataframe tbody tr th:only-of-type {\n",
       "        vertical-align: middle;\n",
       "    }\n",
       "\n",
       "    .dataframe tbody tr th {\n",
       "        vertical-align: top;\n",
       "    }\n",
       "\n",
       "    .dataframe thead th {\n",
       "        text-align: right;\n",
       "    }\n",
       "</style>\n",
       "<table border=\"1\" class=\"dataframe\">\n",
       "  <thead>\n",
       "    <tr style=\"text-align: right;\">\n",
       "      <th></th>\n",
       "      <th>review</th>\n",
       "      <th>sentiment</th>\n",
       "    </tr>\n",
       "  </thead>\n",
       "  <tbody>\n",
       "    <tr>\n",
       "      <th>35045</th>\n",
       "      <td>[remember, trailer, legend, zu, quite, impress...</td>\n",
       "      <td>1</td>\n",
       "    </tr>\n",
       "    <tr>\n",
       "      <th>38508</th>\n",
       "      <td>[recently, watched, film, 30, th, gothenburg, ...</td>\n",
       "      <td>0</td>\n",
       "    </tr>\n",
       "    <tr>\n",
       "      <th>48522</th>\n",
       "      <td>[jacqueline, hyde, starts, like, normal, day, ...</td>\n",
       "      <td>0</td>\n",
       "    </tr>\n",
       "    <tr>\n",
       "      <th>965</th>\n",
       "      <td>[never, want, see, movie, dreadfully, bad, sta...</td>\n",
       "      <td>0</td>\n",
       "    </tr>\n",
       "    <tr>\n",
       "      <th>13006</th>\n",
       "      <td>[nothing, dull, movie, held, together, fully, ...</td>\n",
       "      <td>1</td>\n",
       "    </tr>\n",
       "    <tr>\n",
       "      <th>...</th>\n",
       "      <td>...</td>\n",
       "      <td>...</td>\n",
       "    </tr>\n",
       "    <tr>\n",
       "      <th>26280</th>\n",
       "      <td>[one, original, idea, story, themes, pulled, v...</td>\n",
       "      <td>0</td>\n",
       "    </tr>\n",
       "    <tr>\n",
       "      <th>41647</th>\n",
       "      <td>[haines, excellent, brash, cadet, thinks, west...</td>\n",
       "      <td>1</td>\n",
       "    </tr>\n",
       "    <tr>\n",
       "      <th>38716</th>\n",
       "      <td>[dislike, film, seem, think, loved, one, someh...</td>\n",
       "      <td>1</td>\n",
       "    </tr>\n",
       "    <tr>\n",
       "      <th>17232</th>\n",
       "      <td>[awful, film, badly, written, badly, acted, cl...</td>\n",
       "      <td>0</td>\n",
       "    </tr>\n",
       "    <tr>\n",
       "      <th>23885</th>\n",
       "      <td>[unusual, film, man, befriends, social, opposi...</td>\n",
       "      <td>1</td>\n",
       "    </tr>\n",
       "  </tbody>\n",
       "</table>\n",
       "<p>15000 rows × 2 columns</p>\n",
       "</div>"
      ],
      "text/plain": [
       "                                                  review  sentiment\n",
       "35045  [remember, trailer, legend, zu, quite, impress...          1\n",
       "38508  [recently, watched, film, 30, th, gothenburg, ...          0\n",
       "48522  [jacqueline, hyde, starts, like, normal, day, ...          0\n",
       "965    [never, want, see, movie, dreadfully, bad, sta...          0\n",
       "13006  [nothing, dull, movie, held, together, fully, ...          1\n",
       "...                                                  ...        ...\n",
       "26280  [one, original, idea, story, themes, pulled, v...          0\n",
       "41647  [haines, excellent, brash, cadet, thinks, west...          1\n",
       "38716  [dislike, film, seem, think, loved, one, someh...          1\n",
       "17232  [awful, film, badly, written, badly, acted, cl...          0\n",
       "23885  [unusual, film, man, befriends, social, opposi...          1\n",
       "\n",
       "[15000 rows x 2 columns]"
      ]
     },
     "execution_count": 22,
     "metadata": {},
     "output_type": "execute_result"
    }
   ],
   "source": [
    "df1"
   ]
  },
  {
   "cell_type": "code",
   "execution_count": 23,
   "id": "34a536b8",
   "metadata": {},
   "outputs": [],
   "source": [
    "#porter stemmer\n",
    "from nltk.stem.porter import PorterStemmer\n",
    "ps=PorterStemmer()\n",
    "y=[]\n",
    "def stem_words(text):\n",
    "    \n",
    "    for i in text:\n",
    "        y.append(ps.stem(i))\n",
    "    z=y[:]\n",
    "    y.clear()\n",
    "    return z\n",
    "\n",
    "\n",
    "\n",
    "#applying the function on the dataset\n",
    "df1['review']=df1['review'].apply(stem_words)"
   ]
  },
  {
   "cell_type": "code",
   "execution_count": 24,
   "id": "62e11d77",
   "metadata": {},
   "outputs": [
    {
     "name": "stdout",
     "output_type": "stream",
     "text": [
      "['jacquelin', 'hyde', 'start', 'like', 'normal', 'day', 'telemarket', 'individu', 'jacki', 'hyde', 'co', 'produc', 'gabriella', 'hall', 'boss', 'robert', 'donovan', 'fire', 'take', 'person', 'call', 'work', 'howev', 'bad', 'news', 'call', 'took', 'lawyer', 'inform', 'grandfath', 'malcolm', 'bennett', 'recent', 'die', 'left', 'mansion', 'fortun', 'stuff', 'like', 'ever', 'happen', 'sigh', 'excit', 'jacki', 'head', 'make', 'right', 'home', 'look', 'thermostat', 'late', 'one', 'night', 'jacki', 'stumbl', 'upon', 'secret', 'room', 'grandfath', 'stash', 'bright', 'red', 'formula', 'invent', 'allow', 'whoever', 'drink', 'chang', 'appear', 'bit', 'porki', 'side', 'jacki', 'final', 'settl', 'glamor', 'jacquelin', 'blyth', 'metz', 'howev', 'jacki', 'better', 'look', 'alter', 'ego', 'start', 'take', 'control', 'written', 'co', 'produc', 'direct', 'rolf', 'kanefski', 'thought', 'jacquelin', 'hyde', 'complet', 'total', 'utter', 'crap', 'start', 'finish', 'simpl', 'straight', 'forward', 'accord', 'open', 'credit', 'jacquelin', 'hyde', 'inspir', 'classic', 'robert', 'loui', 'stevenson', 'novel', 'strang', 'case', 'dr', 'jekyl', 'mr', 'hyde', 'frankli', 'mr', 'stevenson', 'could', 'see', 'done', 'stori', 'turn', 'grave', 'start', 'think', 'jacquelin', 'hyde', 'intend', 'horror', 'film', 'imdb', 'certainli', 'list', 'horror', 'apart', 'bad', 'would', 'say', 'jacquelin', 'hyde', 'soft', 'core', 'porno', 'anyth', 'els', 'extrem', 'tame', 'sit', 'watch', 'softer', 'soft', 'porno', 'crap', 'watch', 'proper', 'hard', 'core', 'stuff', 'actual', 'deliv', 'good', 'question', 'ask', 'even', 'good', 'porn', 'either', 'besid', 'far', 'soft', 'dull', 'bore', 'worth', 'mention', 'sex', 'scene', 'far', 'intellig', 'aspect', 'film', 'titl', 'would', 'quit', 'clever', 'fact', 'anoth', 'film', 'use', 'jacquelin', 'hyde', '1998', 'titl', 'last', 'centuri', 'judg', 'imdb', 'plot', 'summari', 'sound', 'hell', 'lot', 'better', 'piec', 'rubbish', 'one', 'film', 'watch', 'see', 'bad', 'hope', 'never', 'get', 'opportun', 'director', 'kanefski', 'obvious', 'work', 'low', 'budget', 'excus', 'day', 'shot', 'digit', 'camcord', 'film', 'look', 'cheap', 'instanc', 'cgi', 'look', 'like', 'came', 'nintendo', 'gameboy', 'final', 'shock', 'twist', 'probabl', 'worst', 'morph', 'effect', 'ever', 'seen', 'pretti', 'good', 'laugh', 'scene', 'jacki', 'breast', 'grow', 'via', 'terribl', 'cgi', 'anoth', 'thing', 'film', 'take', 'far', 'serious', 'subject', 'matter', 'suck', 'far', 'predict', 'make', 'poor', 'film', 'mayb', 'dialogu', 'intent', 'funni', 'dirti', 'porn', 'talk', 'film', 'might', 'fun', 'watch', 'ala', 'forget', 'decent', 'horror', 'violenc', 'gore', 'apart', 'surprisingli', 'bloodless', 'decapit', 'end', 'technic', 'jacquelin', 'hyde', 'home', 'made', 'film', 'type', 'stuff', 'photographi', 'flat', 'hand', 'held', 'point', 'shoot', 'varieti', 'music', 'product', 'design', 'special', 'effect', 'suitabl', 'low', 'standard', 'match', 'script', 'act', 'aw', 'serious', 'bad', 'jacquelin', 'hyde', 'opinion', 'load', 'crap', 'one', 'posit', 'thing', 'turgid', 'film', 'think', 'proper', 'film', 'lover', 'almost', 'imposs', 'time', 'tri', 'find', 'redeem', 'valu', 'crap', 'definit', 'one', 'avoid']"
     ]
    }
   ],
   "source": [
    "print(df1['review'].iloc[2] , end='')"
   ]
  },
  {
   "cell_type": "code",
   "execution_count": 25,
   "id": "d9a0191c",
   "metadata": {},
   "outputs": [
    {
     "name": "stdout",
     "output_type": "stream",
     "text": [
      "['movi', 'everyth', 'want', 'action', 'movi', 'explos', 'shootout', 'bad', 'guy', 'wors', 'guy', 'fun', 'see', 'jame', 'belushi', 'use', 'humor', 'get', 'troubl', 'gotten', 'sinc', 'stole', '12', 'million', 'dollar', 'ultim', 'big', 'boss', 'skipper', 'sound', 'cheesi', 'cours', 'boy', 'fun', 'watch', 'movi', 'whole', 'lot', 'better', 'direct', 'dvd', 'garbag', 'made', 'nowaday', 'get', 'silli', 'plot', 'find', 'movi', 'quit', 'surpris', 'store', 'could', 'argu', 'twist', 'predict', 'fast', 'pace', 'movi', 'give', 'time', 'think', 'much', 'bless', 'sinc', 'movi', 'reveal', 'ultim', 'twist', 'journey', 'moment', 'titl', 'bit', 'mislead', 'could', 'reason', 'mani', 'peopl', 'hate', 'movi', 'probabl', 'expect', 'movi', 'mobster', 'stead', 'crook', 'doubl', 'cross', 'pure', 'fun']"
     ]
    }
   ],
   "source": [
    "print(df1['review'].iloc[9] , end='')"
   ]
  },
  {
   "cell_type": "code",
   "execution_count": 26,
   "id": "34f29fc3",
   "metadata": {},
   "outputs": [
    {
     "data": {
      "text/html": [
       "<div>\n",
       "<style scoped>\n",
       "    .dataframe tbody tr th:only-of-type {\n",
       "        vertical-align: middle;\n",
       "    }\n",
       "\n",
       "    .dataframe tbody tr th {\n",
       "        vertical-align: top;\n",
       "    }\n",
       "\n",
       "    .dataframe thead th {\n",
       "        text-align: right;\n",
       "    }\n",
       "</style>\n",
       "<table border=\"1\" class=\"dataframe\">\n",
       "  <thead>\n",
       "    <tr style=\"text-align: right;\">\n",
       "      <th></th>\n",
       "      <th>review</th>\n",
       "      <th>sentiment</th>\n",
       "    </tr>\n",
       "  </thead>\n",
       "  <tbody>\n",
       "    <tr>\n",
       "      <th>35045</th>\n",
       "      <td>[rememb, trailer, legend, zu, quit, impress, f...</td>\n",
       "      <td>1</td>\n",
       "    </tr>\n",
       "    <tr>\n",
       "      <th>38508</th>\n",
       "      <td>[recent, watch, film, 30, th, gothenburg, film...</td>\n",
       "      <td>0</td>\n",
       "    </tr>\n",
       "    <tr>\n",
       "      <th>48522</th>\n",
       "      <td>[jacquelin, hyde, start, like, normal, day, te...</td>\n",
       "      <td>0</td>\n",
       "    </tr>\n",
       "    <tr>\n",
       "      <th>965</th>\n",
       "      <td>[never, want, see, movi, dread, bad, stand, se...</td>\n",
       "      <td>0</td>\n",
       "    </tr>\n",
       "    <tr>\n",
       "      <th>13006</th>\n",
       "      <td>[noth, dull, movi, held, togeth, fulli, realiz...</td>\n",
       "      <td>1</td>\n",
       "    </tr>\n",
       "    <tr>\n",
       "      <th>...</th>\n",
       "      <td>...</td>\n",
       "      <td>...</td>\n",
       "    </tr>\n",
       "    <tr>\n",
       "      <th>26280</th>\n",
       "      <td>[one, origin, idea, stori, theme, pull, variou...</td>\n",
       "      <td>0</td>\n",
       "    </tr>\n",
       "    <tr>\n",
       "      <th>41647</th>\n",
       "      <td>[hain, excel, brash, cadet, think, west, point...</td>\n",
       "      <td>1</td>\n",
       "    </tr>\n",
       "    <tr>\n",
       "      <th>38716</th>\n",
       "      <td>[dislik, film, seem, think, love, one, somehow...</td>\n",
       "      <td>1</td>\n",
       "    </tr>\n",
       "    <tr>\n",
       "      <th>17232</th>\n",
       "      <td>[aw, film, badli, written, badli, act, clich, ...</td>\n",
       "      <td>0</td>\n",
       "    </tr>\n",
       "    <tr>\n",
       "      <th>23885</th>\n",
       "      <td>[unusu, film, man, befriend, social, opposit, ...</td>\n",
       "      <td>1</td>\n",
       "    </tr>\n",
       "  </tbody>\n",
       "</table>\n",
       "<p>15000 rows × 2 columns</p>\n",
       "</div>"
      ],
      "text/plain": [
       "                                                  review  sentiment\n",
       "35045  [rememb, trailer, legend, zu, quit, impress, f...          1\n",
       "38508  [recent, watch, film, 30, th, gothenburg, film...          0\n",
       "48522  [jacquelin, hyde, start, like, normal, day, te...          0\n",
       "965    [never, want, see, movi, dread, bad, stand, se...          0\n",
       "13006  [noth, dull, movi, held, togeth, fulli, realiz...          1\n",
       "...                                                  ...        ...\n",
       "26280  [one, origin, idea, stori, theme, pull, variou...          0\n",
       "41647  [hain, excel, brash, cadet, think, west, point...          1\n",
       "38716  [dislik, film, seem, think, love, one, somehow...          1\n",
       "17232  [aw, film, badli, written, badli, act, clich, ...          0\n",
       "23885  [unusu, film, man, befriend, social, opposit, ...          1\n",
       "\n",
       "[15000 rows x 2 columns]"
      ]
     },
     "execution_count": 26,
     "metadata": {},
     "output_type": "execute_result"
    }
   ],
   "source": [
    "df1"
   ]
  },
  {
   "cell_type": "code",
   "execution_count": 27,
   "id": "7d7670de",
   "metadata": {},
   "outputs": [],
   "source": [
    "def join_back(text):\n",
    "    return ' '.join(text)\n",
    "\n",
    "\n",
    "df1['review']=df1['review'].apply(join_back)"
   ]
  },
  {
   "cell_type": "code",
   "execution_count": 28,
   "id": "014f5cda",
   "metadata": {},
   "outputs": [
    {
     "data": {
      "text/html": [
       "<div>\n",
       "<style scoped>\n",
       "    .dataframe tbody tr th:only-of-type {\n",
       "        vertical-align: middle;\n",
       "    }\n",
       "\n",
       "    .dataframe tbody tr th {\n",
       "        vertical-align: top;\n",
       "    }\n",
       "\n",
       "    .dataframe thead th {\n",
       "        text-align: right;\n",
       "    }\n",
       "</style>\n",
       "<table border=\"1\" class=\"dataframe\">\n",
       "  <thead>\n",
       "    <tr style=\"text-align: right;\">\n",
       "      <th></th>\n",
       "      <th>review</th>\n",
       "      <th>sentiment</th>\n",
       "    </tr>\n",
       "  </thead>\n",
       "  <tbody>\n",
       "    <tr>\n",
       "      <th>35045</th>\n",
       "      <td>rememb trailer legend zu quit impress fan man ...</td>\n",
       "      <td>1</td>\n",
       "    </tr>\n",
       "    <tr>\n",
       "      <th>38508</th>\n",
       "      <td>recent watch film 30 th gothenburg film festiv...</td>\n",
       "      <td>0</td>\n",
       "    </tr>\n",
       "    <tr>\n",
       "      <th>48522</th>\n",
       "      <td>jacquelin hyde start like normal day telemarke...</td>\n",
       "      <td>0</td>\n",
       "    </tr>\n",
       "    <tr>\n",
       "      <th>965</th>\n",
       "      <td>never want see movi dread bad stand see hero s...</td>\n",
       "      <td>0</td>\n",
       "    </tr>\n",
       "    <tr>\n",
       "      <th>13006</th>\n",
       "      <td>noth dull movi held togeth fulli realiz charac...</td>\n",
       "      <td>1</td>\n",
       "    </tr>\n",
       "    <tr>\n",
       "      <th>...</th>\n",
       "      <td>...</td>\n",
       "      <td>...</td>\n",
       "    </tr>\n",
       "    <tr>\n",
       "      <th>26280</th>\n",
       "      <td>one origin idea stori theme pull variou sourc ...</td>\n",
       "      <td>0</td>\n",
       "    </tr>\n",
       "    <tr>\n",
       "      <th>41647</th>\n",
       "      <td>hain excel brash cadet think west point realli...</td>\n",
       "      <td>1</td>\n",
       "    </tr>\n",
       "    <tr>\n",
       "      <th>38716</th>\n",
       "      <td>dislik film seem think love one somehow belong...</td>\n",
       "      <td>1</td>\n",
       "    </tr>\n",
       "    <tr>\n",
       "      <th>17232</th>\n",
       "      <td>aw film badli written badli act clich hackney ...</td>\n",
       "      <td>0</td>\n",
       "    </tr>\n",
       "    <tr>\n",
       "      <th>23885</th>\n",
       "      <td>unusu film man befriend social opposit fear bl...</td>\n",
       "      <td>1</td>\n",
       "    </tr>\n",
       "  </tbody>\n",
       "</table>\n",
       "<p>15000 rows × 2 columns</p>\n",
       "</div>"
      ],
      "text/plain": [
       "                                                  review  sentiment\n",
       "35045  rememb trailer legend zu quit impress fan man ...          1\n",
       "38508  recent watch film 30 th gothenburg film festiv...          0\n",
       "48522  jacquelin hyde start like normal day telemarke...          0\n",
       "965    never want see movi dread bad stand see hero s...          0\n",
       "13006  noth dull movi held togeth fulli realiz charac...          1\n",
       "...                                                  ...        ...\n",
       "26280  one origin idea stori theme pull variou sourc ...          0\n",
       "41647  hain excel brash cadet think west point realli...          1\n",
       "38716  dislik film seem think love one somehow belong...          1\n",
       "17232  aw film badli written badli act clich hackney ...          0\n",
       "23885  unusu film man befriend social opposit fear bl...          1\n",
       "\n",
       "[15000 rows x 2 columns]"
      ]
     },
     "execution_count": 28,
     "metadata": {},
     "output_type": "execute_result"
    }
   ],
   "source": [
    "df1"
   ]
  },
  {
   "cell_type": "code",
   "execution_count": 29,
   "id": "67334087",
   "metadata": {},
   "outputs": [],
   "source": [
    "from sklearn.feature_extraction.text import CountVectorizer\n",
    "cv=CountVectorizer()"
   ]
  },
  {
   "cell_type": "code",
   "execution_count": 30,
   "id": "19bdc6d5",
   "metadata": {},
   "outputs": [],
   "source": [
    "X=cv.fit_transform(df1['review']).toarray()"
   ]
  },
  {
   "cell_type": "code",
   "execution_count": 31,
   "id": "7ad657c6",
   "metadata": {},
   "outputs": [
    {
     "data": {
      "text/plain": [
       "(15000, 43046)"
      ]
     },
     "execution_count": 31,
     "metadata": {},
     "output_type": "execute_result"
    }
   ],
   "source": [
    "X.shape"
   ]
  },
  {
   "cell_type": "code",
   "execution_count": 32,
   "id": "4440be1f",
   "metadata": {},
   "outputs": [],
   "source": [
    "y=df1.iloc[:,-1].values"
   ]
  },
  {
   "cell_type": "code",
   "execution_count": 33,
   "id": "41ec810a",
   "metadata": {},
   "outputs": [
    {
     "data": {
      "text/plain": [
       "(15000,)"
      ]
     },
     "execution_count": 33,
     "metadata": {},
     "output_type": "execute_result"
    }
   ],
   "source": [
    "y.shape"
   ]
  },
  {
   "cell_type": "code",
   "execution_count": 34,
   "id": "c23a7535",
   "metadata": {},
   "outputs": [],
   "source": [
    "from sklearn.model_selection import train_test_split\n",
    "X_train,X_test, y_train,y_test=train_test_split(X,y,test_size=0.2)"
   ]
  },
  {
   "cell_type": "code",
   "execution_count": 35,
   "id": "a708d631",
   "metadata": {},
   "outputs": [
    {
     "data": {
      "text/plain": [
       "(12000, 43046)"
      ]
     },
     "execution_count": 35,
     "metadata": {},
     "output_type": "execute_result"
    }
   ],
   "source": [
    "X_train.shape"
   ]
  },
  {
   "cell_type": "code",
   "execution_count": 36,
   "id": "e4cdcfd6",
   "metadata": {},
   "outputs": [
    {
     "data": {
      "text/plain": [
       "(12000,)"
      ]
     },
     "execution_count": 36,
     "metadata": {},
     "output_type": "execute_result"
    }
   ],
   "source": [
    "y_train.shape"
   ]
  },
  {
   "cell_type": "code",
   "execution_count": 37,
   "id": "a4842aad",
   "metadata": {},
   "outputs": [
    {
     "data": {
      "text/plain": [
       "(3000, 43046)"
      ]
     },
     "execution_count": 37,
     "metadata": {},
     "output_type": "execute_result"
    }
   ],
   "source": [
    "X_test.shape"
   ]
  },
  {
   "cell_type": "code",
   "execution_count": 38,
   "id": "379d47b2",
   "metadata": {},
   "outputs": [
    {
     "data": {
      "text/plain": [
       "(3000,)"
      ]
     },
     "execution_count": 38,
     "metadata": {},
     "output_type": "execute_result"
    }
   ],
   "source": [
    "y_test.shape"
   ]
  },
  {
   "cell_type": "code",
   "execution_count": 39,
   "id": "14a4e338",
   "metadata": {},
   "outputs": [],
   "source": [
    "from sklearn.naive_bayes import GaussianNB , BernoulliNB , MultinomialNB"
   ]
  },
  {
   "cell_type": "code",
   "execution_count": 40,
   "id": "d031f1ba",
   "metadata": {},
   "outputs": [],
   "source": [
    "cf1=GaussianNB()\n",
    "cf2=BernoulliNB()\n",
    "cf3=MultinomialNB()"
   ]
  },
  {
   "cell_type": "code",
   "execution_count": 41,
   "id": "88467e72",
   "metadata": {},
   "outputs": [
    {
     "data": {
      "text/plain": [
       "MultinomialNB()"
      ]
     },
     "execution_count": 41,
     "metadata": {},
     "output_type": "execute_result"
    }
   ],
   "source": [
    "cf1.fit(X_train,y_train)\n",
    "cf2.fit(X_train,y_train)\n",
    "cf3.fit(X_train,y_train)"
   ]
  },
  {
   "cell_type": "code",
   "execution_count": 42,
   "id": "bb44e1af",
   "metadata": {},
   "outputs": [],
   "source": [
    "y_pred1=cf1.predict(X_test)\n",
    "y_pred2=cf2.predict(X_test)\n",
    "y_pred3=cf3.predict(X_test)"
   ]
  },
  {
   "cell_type": "code",
   "execution_count": 43,
   "id": "cd35a307",
   "metadata": {},
   "outputs": [
    {
     "data": {
      "text/plain": [
       "(3000,)"
      ]
     },
     "execution_count": 43,
     "metadata": {},
     "output_type": "execute_result"
    }
   ],
   "source": [
    "y_test.shape"
   ]
  },
  {
   "cell_type": "code",
   "execution_count": 44,
   "id": "62881d30",
   "metadata": {},
   "outputs": [
    {
     "data": {
      "text/plain": [
       "(3000,)"
      ]
     },
     "execution_count": 44,
     "metadata": {},
     "output_type": "execute_result"
    }
   ],
   "source": [
    "y_pred1.shape"
   ]
  },
  {
   "cell_type": "code",
   "execution_count": 45,
   "id": "51b0b651",
   "metadata": {},
   "outputs": [],
   "source": [
    "y_pred_train1=cf1.predict(X_train)\n",
    "y_pred_train2=cf2.predict(X_train)\n",
    "y_pred_train3=cf3.predict(X_train)"
   ]
  },
  {
   "cell_type": "code",
   "execution_count": 46,
   "id": "1c87071a",
   "metadata": {},
   "outputs": [],
   "source": [
    "from sklearn.metrics import accuracy_score , classification_report , confusion_matrix"
   ]
  },
  {
   "cell_type": "code",
   "execution_count": 47,
   "id": "84c9b2d4",
   "metadata": {},
   "outputs": [
    {
     "name": "stdout",
     "output_type": "stream",
     "text": [
      "Training Accuracy for Gaussian Naive Bayes:  0.883\n",
      "Training Accuracy for Bernoulli Naive Bayes:  0.9195\n",
      "Training Accuracy for Multinomial Naive Bayes:  0.9168333333333333\n"
     ]
    }
   ],
   "source": [
    "print('Training Accuracy for Gaussian Naive Bayes: ',accuracy_score(y_train,y_pred_train1))\n",
    "print('Training Accuracy for Bernoulli Naive Bayes: ',accuracy_score(y_train,y_pred_train2))\n",
    "print('Training Accuracy for Multinomial Naive Bayes: ',accuracy_score(y_train,y_pred_train3))"
   ]
  },
  {
   "cell_type": "code",
   "execution_count": 48,
   "id": "106cf23b",
   "metadata": {},
   "outputs": [
    {
     "name": "stdout",
     "output_type": "stream",
     "text": [
      "Test Accuracy for Gaussian Naive Bayes:  0.6333333333333333\n",
      "Test Accuracy for Bernoulli Naive Bayes:  0.8416666666666667\n",
      "Test Accuracy for Multinomial Naive Bayes:  0.8396666666666667\n"
     ]
    }
   ],
   "source": [
    "print('Test Accuracy for Gaussian Naive Bayes: ',accuracy_score(y_test,y_pred1))\n",
    "print('Test Accuracy for Bernoulli Naive Bayes: ',accuracy_score(y_test,y_pred2))\n",
    "print('Test Accuracy for Multinomial Naive Bayes: ',accuracy_score(y_test,y_pred3))"
   ]
  }
 ],
 "metadata": {
  "kernelspec": {
   "display_name": "Python 3 (ipykernel)",
   "language": "python",
   "name": "python3"
  },
  "language_info": {
   "codemirror_mode": {
    "name": "ipython",
    "version": 3
   },
   "file_extension": ".py",
   "mimetype": "text/x-python",
   "name": "python",
   "nbconvert_exporter": "python",
   "pygments_lexer": "ipython3",
   "version": "3.9.13"
  }
 },
 "nbformat": 4,
 "nbformat_minor": 5
}
